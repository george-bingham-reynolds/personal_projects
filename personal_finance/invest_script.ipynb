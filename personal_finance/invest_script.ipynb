{
 "cells": [
  {
   "cell_type": "markdown",
   "id": "57ab3d25",
   "metadata": {},
   "source": [
    "This notebook is built on code from the helpers file. I've put together a small story based on expected outcomes depending on current day dollars invested and annually recurring investments. Default values are based on articles cited here or in the helpers file, but feel free to use numbers that make more sense for you! I will note that annual percentage growth is nominal by default; if you prefer real returns you may want to set percentages to 0.068 as per this article: https://www.mckinsey.com/capabilities/strategy-and-corporate-finance/our-insights/the-strategy-and-corporate-finance-blog/markets-will-be-markets-an-analysis-of-long-term-returns-from-the-s-and-p-500"
   ]
  },
  {
   "cell_type": "code",
   "execution_count": 1,
   "id": "429bd273",
   "metadata": {},
   "outputs": [],
   "source": [
    "from helpers import investment_growth as growth, recurring_investment as recur"
   ]
  },
  {
   "cell_type": "markdown",
   "id": "aa49d713",
   "metadata": {},
   "source": [
    "Defining principal at average retirement savings for my age group reported here: https://www.nerdwallet.com/article/investing/the-average-retirement-savings-by-age-and-why-you-need-more\n",
    "\n",
    "Defining time as 62 - 29 (social security minimum collection age - my age)"
   ]
  },
  {
   "cell_type": "code",
   "execution_count": 2,
   "id": "3002c608",
   "metadata": {},
   "outputs": [],
   "source": [
    "savings = 30170\n",
    "years = 33"
   ]
  },
  {
   "cell_type": "code",
   "execution_count": 3,
   "id": "401f1366",
   "metadata": {},
   "outputs": [],
   "source": [
    "principal_pretax = round(growth().pre_tax(savings, years), 2)\n",
    "principal_takehome = round(growth().post_tax(savings, years).takehome, 2)\n",
    "principal_growth = round(growth().post_tax(savings, years).cap_gain, 2)\n",
    "principal_taxes = round(growth().post_tax(savings, years).taxed, 2)"
   ]
  },
  {
   "cell_type": "code",
   "execution_count": 4,
   "id": "05dfd7d8",
   "metadata": {},
   "outputs": [
    {
     "name": "stdout",
     "output_type": "stream",
     "text": [
      "An account holding 30170 dollars in savings can be expected to grow to about 732932.3\n",
      "This implies 702762.3 worth of growth, on which you will pay 140552.46 in tax.\n",
      "This means you have a takehome of about 592379.84 dollars.\n"
     ]
    }
   ],
   "source": [
    "print(f\"An account holding {savings} dollars in savings can be expected to grow to about {principal_pretax}\\nThis implies {principal_growth} worth of growth, on which you will pay {principal_taxes} in tax.\\nThis means you have a takehome of about {principal_takehome} dollars.\")\n"
   ]
  },
  {
   "cell_type": "markdown",
   "id": "ba089806",
   "metadata": {},
   "source": [
    "Defining recurring investment as 401k cap + Roth IRA cap = 22,500 + 6,500 = 29,000"
   ]
  },
  {
   "cell_type": "code",
   "execution_count": 5,
   "id": "10a22f2e",
   "metadata": {},
   "outputs": [],
   "source": [
    "investment = 29000"
   ]
  },
  {
   "cell_type": "code",
   "execution_count": 6,
   "id": "83b72b56",
   "metadata": {},
   "outputs": [],
   "source": [
    "recur_pretax = round(recur().pre_tax(investment, years), 2)\n",
    "recur_takehome = round(recur().post_tax(investment, years).takehome, 2)\n",
    "recur_growth = round(recur().post_tax(investment, years).cap_gain, 2)\n",
    "recur_taxed = round(recur().post_tax(investment, years).taxed, 2)"
   ]
  },
  {
   "cell_type": "code",
   "execution_count": 7,
   "id": "a28f1bb1",
   "metadata": {},
   "outputs": [
    {
     "name": "stdout",
     "output_type": "stream",
     "text": [
      "An annual investment of 29000 dollars can be expected to grow to about 7330770.11\n",
      "This implies 6373770.11 worth of growth, on which you will pay 1274754.02 in tax.\n",
      "This means you have a takehome of about 6056016.09 dollars.\n"
     ]
    }
   ],
   "source": [
    "print(f\"An annual investment of {investment} dollars can be expected to grow to about {recur_pretax}\\nThis implies {recur_growth} worth of growth, on which you will pay {recur_taxed} in tax.\\nThis means you have a takehome of about {recur_takehome} dollars.\")\n"
   ]
  },
  {
   "cell_type": "code",
   "execution_count": 8,
   "id": "c2b519d7",
   "metadata": {},
   "outputs": [
    {
     "name": "stdout",
     "output_type": "stream",
     "text": [
      "In sum, an average retirement account at age 29 with maximum retirement savings moving foward will leave one with about 6648395.93 dollars at age 62\n"
     ]
    }
   ],
   "source": [
    "print(f\"In sum, an average retirement account at age 29 with maximum retirement savings moving foward will leave one with about {round(recur_takehome + principal_takehome, 2)} dollars at age 62\")"
   ]
  },
  {
   "cell_type": "code",
   "execution_count": null,
   "id": "d5ab2d7a",
   "metadata": {},
   "outputs": [],
   "source": []
  }
 ],
 "metadata": {
  "kernelspec": {
   "display_name": "Python 3 (ipykernel)",
   "language": "python",
   "name": "python3"
  },
  "language_info": {
   "codemirror_mode": {
    "name": "ipython",
    "version": 3
   },
   "file_extension": ".py",
   "mimetype": "text/x-python",
   "name": "python",
   "nbconvert_exporter": "python",
   "pygments_lexer": "ipython3",
   "version": "3.11.4"
  }
 },
 "nbformat": 4,
 "nbformat_minor": 5
}
