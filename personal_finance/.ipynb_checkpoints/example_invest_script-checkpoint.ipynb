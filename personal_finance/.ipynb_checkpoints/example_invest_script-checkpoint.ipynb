{
 "cells": [
  {
   "cell_type": "markdown",
   "id": "286ea2bb",
   "metadata": {},
   "source": [
    "This notebook is built on code from the helpers file. I've put together a small story based on expected outcomes depending on current day dollars invested and annually recurring investments. Default values are based on articles cited here or in the helpers file, but feel free to use numbers that make more sense for you! I will note that annual percentage growth is nominal by default; if you prefer real returns you may want to set percentages to 0.068 as per this article: https://www.mckinsey.com/capabilities/strategy-and-corporate-finance/our-insights/the-strategy-and-corporate-finance-blog/markets-will-be-markets-an-analysis-of-long-term-returns-from-the-s-and-p-500"
   ]
  },
  {
   "cell_type": "code",
   "execution_count": 1,
   "id": "d1786bf4",
   "metadata": {},
   "outputs": [],
   "source": [
    "from helpers import pre_tax, post_tax"
   ]
  },
  {
   "cell_type": "markdown",
   "id": "a28fcc0c",
   "metadata": {},
   "source": [
    "Defining principal at average retirement savings for my age group reported here: https://www.nerdwallet.com/article/investing/the-average-retirement-savings-by-age-and-why-you-need-more\n",
    "\n",
    "Defining time as 62 - 29 (social security minimum collection age - my age)"
   ]
  },
  {
   "cell_type": "code",
   "execution_count": 2,
   "id": "554acdde",
   "metadata": {},
   "outputs": [],
   "source": [
    "savings = 30170\n",
    "years = 33"
   ]
  },
  {
   "cell_type": "markdown",
   "id": "169fa53d",
   "metadata": {},
   "source": [
    "Defining recurring investment as 401k cap + Roth IRA cap = 22,500 + 6,500 = 29,000"
   ]
  },
  {
   "cell_type": "code",
   "execution_count": 3,
   "id": "3f052ae2",
   "metadata": {},
   "outputs": [],
   "source": [
    "investment = 29000"
   ]
  },
  {
   "cell_type": "code",
   "execution_count": 4,
   "id": "da0d68e7",
   "metadata": {},
   "outputs": [],
   "source": [
    "#DEFINE PRE/POST TAX OBJECTS\n",
    "pre = pre_tax()\n",
    "post = post_tax()\n",
    "\n",
    "#PRE-TAX MONEY VARS\n",
    "principal_pretax = pre.investment_growth(savings, years, percent = 0.068)\n",
    "recur_pretax = pre.recurring_investment(investment, years, percent = 0.068)\n",
    "\n",
    "#CAP GAINS\n",
    "principal_growth = post.investment_growth(savings, years, percent = 0.068).cap_gain\n",
    "recur_growth = post.recurring_investment(investment, years, percent = 0.068).cap_gain\n",
    "\n",
    "#TAKEHOME\n",
    "principal_takehome = post.investment_growth(savings, years, percent = 0.068).takehome\n",
    "recur_takehome = post.recurring_investment(investment, years, percent = 0.068).takehome\n",
    "\n",
    "#TAXES PAID\n",
    "principal_taxes = post.investment_growth(savings, years, percent = 0.068).taxed\n",
    "recur_taxes = post.recurring_investment(investment, years, percent = 0.068).taxed"
   ]
  },
  {
   "cell_type": "code",
   "execution_count": 5,
   "id": "3ebbd164",
   "metadata": {},
   "outputs": [
    {
     "name": "stdout",
     "output_type": "stream",
     "text": [
      "An account holding 30170 dollars in savings can be expected to grow to about 264500.59\n",
      "This implies 234330.59 worth of growth, on which you will pay 46866.12 in tax.\n",
      "This means you have a takehome of about 217634.47 dollars.\n"
     ]
    }
   ],
   "source": [
    "print(f\"An account holding {savings} dollars in savings can be expected to grow to about {principal_pretax}\\nThis implies {principal_growth} worth of growth, on which you will pay {principal_taxes} in tax.\\nThis means you have a takehome of about {principal_takehome} dollars.\")\n"
   ]
  },
  {
   "cell_type": "code",
   "execution_count": 6,
   "id": "fa281a12",
   "metadata": {},
   "outputs": [
    {
     "name": "stdout",
     "output_type": "stream",
     "text": [
      "An annual investment of 29000 dollars can be expected to grow to about 3537643.13\n",
      "This implies 2580643.13 worth of growth, on which you will pay 516128.63 in tax.\n",
      "This means you have a takehome of about 3021514.5 dollars.\n"
     ]
    }
   ],
   "source": [
    "print(f\"An annual investment of {investment} dollars can be expected to grow to about {recur_pretax}\\nThis implies {recur_growth} worth of growth, on which you will pay {recur_taxes} in tax.\\nThis means you have a takehome of about {recur_takehome} dollars.\")\n"
   ]
  },
  {
   "cell_type": "code",
   "execution_count": 7,
   "id": "a8fb7388",
   "metadata": {
    "scrolled": true
   },
   "outputs": [
    {
     "name": "stdout",
     "output_type": "stream",
     "text": [
      "In sum, an average retirement account at age 29 with maximum retirement savings moving foward will leave one with about 3239148.97 dollars at age 62\n"
     ]
    }
   ],
   "source": [
    "print(f\"In sum, an average retirement account at age 29 with maximum retirement savings moving foward will leave one with about {round(recur_takehome + principal_takehome, 2)} dollars at age 62\")"
   ]
  },
  {
   "cell_type": "code",
   "execution_count": null,
   "id": "787ed28b",
   "metadata": {},
   "outputs": [],
   "source": []
  }
 ],
 "metadata": {
  "kernelspec": {
   "display_name": "Python 3 (ipykernel)",
   "language": "python",
   "name": "python3"
  },
  "language_info": {
   "codemirror_mode": {
    "name": "ipython",
    "version": 3
   },
   "file_extension": ".py",
   "mimetype": "text/x-python",
   "name": "python",
   "nbconvert_exporter": "python",
   "pygments_lexer": "ipython3",
   "version": "3.11.4"
  }
 },
 "nbformat": 4,
 "nbformat_minor": 5
}
