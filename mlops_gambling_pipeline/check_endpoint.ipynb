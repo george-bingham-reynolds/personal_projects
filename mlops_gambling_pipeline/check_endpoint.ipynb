{
 "cells": [
  {
   "cell_type": "code",
   "execution_count": null,
   "id": "0af645ea-f28d-4dd0-ac82-37be3517247b",
   "metadata": {
    "tags": []
   },
   "outputs": [],
   "source": [
    "import tensorflow as tf\n",
    "import pandas as pd"
   ]
  },
  {
   "cell_type": "code",
   "execution_count": null,
   "id": "78813151-e7e0-44a0-be3e-67d741e6f128",
   "metadata": {
    "tags": []
   },
   "outputs": [],
   "source": [
    "from google.cloud import aiplatform\n",
    "endpoint = aiplatform.Endpoint(\n",
    "    endpoint_name=\"projects/YOUR-PROJECT-NUMBER/locations/us-central1/endpoints/YOUR-ENDPOINT-ID\"\n",
    ")"
   ]
  },
  {
   "cell_type": "code",
   "execution_count": null,
   "id": "629587a6-54c9-4abf-b3b6-22a18d1b3cf4",
   "metadata": {
    "tags": []
   },
   "outputs": [],
   "source": [
    "pred_df = pd.read_csv('test_data.csv')"
   ]
  },
  {
   "cell_type": "code",
   "execution_count": null,
   "id": "6ba1b8cf-24b3-4a97-b618-357da96760a9",
   "metadata": {
    "tags": []
   },
   "outputs": [],
   "source": [
    "pred_df"
   ]
  },
  {
   "cell_type": "code",
   "execution_count": null,
   "id": "fa15d3bd-09fb-4857-a1fa-595b7eaa53a5",
   "metadata": {
    "tags": []
   },
   "outputs": [],
   "source": [
    "batch_size = 32\n",
    "vali_ds = tf.data.experimental.make_csv_dataset(\n",
    "        \"test_data.csv\", \n",
    "        batch_size,\n",
    "        column_names=pred_df.columns.tolist(),\n",
    "        label_name='beat_spread',\n",
    "        num_epochs=1)"
   ]
  },
  {
   "cell_type": "code",
   "execution_count": null,
   "id": "1f2f45e4-874b-4682-9203-f0f22dd4c250",
   "metadata": {
    "tags": []
   },
   "outputs": [],
   "source": [
    "pred_values = pred_df.drop(columns = ['beat_spread']).loc[0].values.tolist()\n",
    "response = endpoint.predict([pred_values])"
   ]
  },
  {
   "cell_type": "code",
   "execution_count": null,
   "id": "1052c0dc-3348-40e4-b030-7c6ce15b887f",
   "metadata": {
    "tags": []
   },
   "outputs": [],
   "source": [
    "response.predictions"
   ]
  },
  {
   "cell_type": "code",
   "execution_count": null,
   "id": "c01cab05-793b-46cb-900a-ffacce2f6dd4",
   "metadata": {
    "tags": []
   },
   "outputs": [],
   "source": [
    "response.predictions[0][0]"
   ]
  },
  {
   "cell_type": "code",
   "execution_count": null,
   "id": "224c59a5-047f-44a9-a9bc-f08d2bc71654",
   "metadata": {
    "tags": []
   },
   "outputs": [],
   "source": [
    "pred_df['prediction'] = None\n",
    "pred_df['predict_prob'] = None"
   ]
  },
  {
   "cell_type": "code",
   "execution_count": null,
   "id": "1e2cda7a-2bcb-4017-ba56-0ee6b35389e7",
   "metadata": {
    "tags": []
   },
   "outputs": [],
   "source": [
    "for i in range(len(pred_df)):\n",
    "    pred_values = pred_df.drop(columns = ['beat_spread', 'prediction', 'predict_prob']).loc[i].values.tolist()\n",
    "    \n",
    "    response = endpoint.predict([pred_values])\n",
    "    \n",
    "    pred = round(response.predictions[0][0])\n",
    "    prob = response.predictions[0][0]\n",
    "    \n",
    "    pred_df.loc[i, 'prediction'] = pred\n",
    "    pred_df.loc[i, 'predict_prob'] = prob"
   ]
  },
  {
   "cell_type": "code",
   "execution_count": null,
   "id": "71e5d636-506c-463c-96bb-028f0239308f",
   "metadata": {
    "tags": []
   },
   "outputs": [],
   "source": [
    "pred_df"
   ]
  }
 ],
 "metadata": {
  "environment": {
   "kernel": "conda-root-py",
   "name": "workbench-notebooks.m113",
   "type": "gcloud",
   "uri": "gcr.io/deeplearning-platform-release/workbench-notebooks:m113"
  },
  "kernelspec": {
   "display_name": "Python 3 (ipykernel)",
   "language": "python",
   "name": "python3"
  },
  "language_info": {
   "codemirror_mode": {
    "name": "ipython",
    "version": 3
   },
   "file_extension": ".py",
   "mimetype": "text/x-python",
   "name": "python",
   "nbconvert_exporter": "python",
   "pygments_lexer": "ipython3",
   "version": "3.11.4"
  }
 },
 "nbformat": 4,
 "nbformat_minor": 5
}
